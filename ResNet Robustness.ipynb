{
 "cells": [
  {
   "cell_type": "code",
   "execution_count": 1,
   "id": "11ec9ff5",
   "metadata": {},
   "outputs": [
    {
     "data": {
      "text/plain": [
       "<matplotlib.pyplot._IonContext at 0x1eabca4d6a0>"
      ]
     },
     "execution_count": 1,
     "metadata": {},
     "output_type": "execute_result"
    }
   ],
   "source": [
    "from __future__ import print_function, division\n",
    "\n",
    "import torch\n",
    "import torch.nn as nn\n",
    "import torch.optim as optim\n",
    "from torch.optim import lr_scheduler\n",
    "import torch.backends.cudnn as cudnn\n",
    "import numpy as np\n",
    "import torchvision\n",
    "from torchvision import datasets, models, transforms\n",
    "import matplotlib.pyplot as plt\n",
    "import time\n",
    "import os\n",
    "import copy\n",
    "\n",
    "cudnn.benchmark = True\n",
    "plt.ion()   # interactive mode"
   ]
  },
  {
   "cell_type": "code",
   "execution_count": 2,
   "id": "c0a663db",
   "metadata": {},
   "outputs": [],
   "source": [
    "#train function and stock the acc values in the lists\n",
    "def train_model(model, criterion, optimizer, scheduler, num_epochs=10):\n",
    "    since = time.time()\n",
    "\n",
    "    best_model_wts = copy.deepcopy(model.state_dict())\n",
    "    best_acc = 0.0\n",
    "    \n",
    "    # create lists to store the results for each epoch of the trained model\n",
    "    train_loss = []\n",
    "    val_loss = []\n",
    "    train_acc = []\n",
    "    val_acc = []\n",
    "\n",
    "    for epoch in range(num_epochs):\n",
    "        print(f'Epoch {epoch}/{num_epochs - 1}')\n",
    "        print('-' * 10)\n",
    "\n",
    "        # Each epoch has a training and validation phase\n",
    "        for phase in ['train', 'val']:\n",
    "            if phase == 'train':\n",
    "                model.train()  # Set model to training mode\n",
    "            else:\n",
    "                model.eval()   # Set model to evaluate mode\n",
    "\n",
    "            running_loss = 0.0\n",
    "            running_corrects = 0\n",
    "            # Iterate over data.\n",
    "            for inputs, labels in dataloaders[phase]:\n",
    "                inputs = inputs.to(device)\n",
    "                labels = labels.to(device)\n",
    "                # zero the parameter gradients\n",
    "                optimizer.zero_grad()\n",
    "\n",
    "                # forward\n",
    "                # track history if only in train\n",
    "                with torch.set_grad_enabled(phase == 'train'):\n",
    "                    outputs = model(inputs)\n",
    "                    _, preds = torch.max(outputs, 1)\n",
    "                    loss = criterion(outputs, labels)\n",
    "                    # backward + optimize only if in training phase\n",
    "                    if phase == 'train':\n",
    "                        loss.backward()\n",
    "                        optimizer.step()\n",
    "                # statistics\n",
    "\n",
    "                running_loss += loss.item() * inputs.size(0)\n",
    "                running_corrects += torch.sum(preds == labels.data)\n",
    "            if phase == 'train':\n",
    "                scheduler.step()\n",
    "\n",
    "            epoch_loss = running_loss / dataset_sizes[phase]\n",
    "            epoch_acc = running_corrects.double() / dataset_sizes[phase]\n",
    "\n",
    "            print(f'{phase} Loss: {epoch_loss:.4f} Acc: {epoch_acc:.4f}')\n",
    "\n",
    "            # deep copy the model\n",
    "            if phase == 'val' and epoch_acc > best_acc:\n",
    "                best_acc = epoch_acc\n",
    "                best_model_wts = copy.deepcopy(model.state_dict())\n",
    "            if phase == 'train':\n",
    "                train_loss.append(epoch_loss)\n",
    "                train_acc.append(epoch_acc)\n",
    "            else:\n",
    "                val_loss.append(epoch_loss)\n",
    "                val_acc.append(epoch_acc)\n",
    "        print()\n",
    "\n",
    "    time_elapsed = time.time() - since\n",
    "    print(f'Training complete in {time_elapsed // 60:.0f}m {time_elapsed % 60:.0f}s')\n",
    "    print(f'Best val Acc: {best_acc:4f}')\n",
    "\n",
    "    # load best model weights\n",
    "    model.load_state_dict(best_model_wts)\n",
    "    return [model,val_acc]"
   ]
  },
  {
   "cell_type": "code",
   "execution_count": 3,
   "id": "3dc2bee7",
   "metadata": {},
   "outputs": [],
   "source": [
    "device = torch.device(\"cuda:0\" if torch.cuda.is_available() else \"cpu\")\n",
    "\n",
    "model = models.resnet18(pretrained=True)\n",
    "model.to(device)\n",
    "\n",
    "criterion = nn.CrossEntropyLoss().to(device)\n",
    "\n",
    "# Observe that all parameters are being optimized\n",
    "optimizer = optim.SGD(model.parameters(), lr=0.001, momentum=0.9)\n",
    "\n",
    "# Decay LR by a factor of 0.1 every 7 epochs\n",
    "exp_lr_scheduler = lr_scheduler.StepLR(optimizer, step_size=7, gamma=0.1)"
   ]
  },
  {
   "cell_type": "markdown",
   "id": "865d662b",
   "metadata": {},
   "source": [
    "### Normalized"
   ]
  },
  {
   "cell_type": "code",
   "execution_count": 36,
   "id": "8443aa82",
   "metadata": {},
   "outputs": [],
   "source": [
    "data_transforms = {\n",
    "    'train': transforms.Compose([\n",
    "        transforms.Resize(256),\n",
    "        transforms.CenterCrop(224),\n",
    "        transforms.ToTensor(),\n",
    "        transforms.Normalize([0.485, 0.456, 0.406], [0.229, 0.224, 0.225])\n",
    "    ]),\n",
    "    'val': transforms.Compose([\n",
    "        transforms.Resize(256),\n",
    "        transforms.CenterCrop(224),\n",
    "        transforms.ToTensor(),\n",
    "        transforms.Normalize([0.485, 0.456, 0.406], [0.229, 0.224, 0.225])\n",
    "    ]),\n",
    "}"
   ]
  },
  {
   "cell_type": "code",
   "execution_count": 37,
   "id": "e90ae1de",
   "metadata": {},
   "outputs": [],
   "source": [
    "torch.cuda.empty_cache()"
   ]
  },
  {
   "cell_type": "code",
   "execution_count": 38,
   "id": "3f1d0fd2",
   "metadata": {},
   "outputs": [
    {
     "name": "stdout",
     "output_type": "stream",
     "text": [
      "Epoch 0/9\n",
      "----------\n",
      "train Loss: 0.0055 Acc: 0.9992\n",
      "val Loss: 0.1365 Acc: 0.9700\n",
      "\n",
      "Epoch 1/9\n",
      "----------\n",
      "train Loss: 0.0054 Acc: 0.9991\n",
      "val Loss: 0.1333 Acc: 0.9711\n",
      "\n",
      "Epoch 2/9\n",
      "----------\n",
      "train Loss: 0.0066 Acc: 0.9982\n",
      "val Loss: 0.1424 Acc: 0.9693\n",
      "\n",
      "Epoch 3/9\n",
      "----------\n",
      "train Loss: 0.0053 Acc: 0.9992\n",
      "val Loss: 0.1413 Acc: 0.9711\n",
      "\n",
      "Epoch 4/9\n",
      "----------\n",
      "train Loss: 0.0055 Acc: 0.9991\n",
      "val Loss: 0.1413 Acc: 0.9700\n",
      "\n",
      "Epoch 5/9\n",
      "----------\n",
      "train Loss: 0.0053 Acc: 0.9989\n",
      "val Loss: 0.1388 Acc: 0.9693\n",
      "\n",
      "Epoch 6/9\n",
      "----------\n",
      "train Loss: 0.0058 Acc: 0.9988\n",
      "val Loss: 0.1385 Acc: 0.9696\n",
      "\n",
      "Epoch 7/9\n",
      "----------\n",
      "train Loss: 0.0061 Acc: 0.9989\n",
      "val Loss: 0.1410 Acc: 0.9689\n",
      "\n",
      "Epoch 8/9\n",
      "----------\n",
      "train Loss: 0.0053 Acc: 0.9987\n",
      "val Loss: 0.1382 Acc: 0.9696\n",
      "\n",
      "Epoch 9/9\n",
      "----------\n",
      "train Loss: 0.0055 Acc: 0.9992\n",
      "val Loss: 0.1390 Acc: 0.9686\n",
      "\n",
      "Training complete in 11m 41s\n",
      "Best val Acc: 0.971071\n"
     ]
    }
   ],
   "source": [
    "Normal_model = train_model(model, criterion, optimizer, exp_lr_scheduler)"
   ]
  },
  {
   "cell_type": "markdown",
   "id": "a0f49957",
   "metadata": {},
   "source": [
    "### Gaussian Blur effect"
   ]
  },
  {
   "cell_type": "code",
   "execution_count": 4,
   "id": "f7e14876",
   "metadata": {},
   "outputs": [],
   "source": [
    "Gaussian_Blur = torchvision.transforms.GaussianBlur(kernel_size=9, sigma=3)"
   ]
  },
  {
   "cell_type": "code",
   "execution_count": 5,
   "id": "3528cf4c",
   "metadata": {},
   "outputs": [],
   "source": [
    "# Data augmentation\n",
    "\n",
    "data_transforms = {\n",
    "    'train': transforms.Compose([\n",
    "        transforms.Resize(256),\n",
    "        transforms.CenterCrop(224),\n",
    "        transforms.ToTensor(),\n",
    "        Gaussian_Blur\n",
    "    ]),\n",
    "    'val': transforms.Compose([\n",
    "        transforms.Resize(256),\n",
    "        transforms.CenterCrop(224),\n",
    "        transforms.ToTensor(),\n",
    "        Gaussian_Blur\n",
    "    ]),\n",
    "}\n",
    "\n",
    "data_dir = 'data'\n",
    "\n",
    "image_datasets = {x: datasets.ImageFolder(os.path.join(data_dir, x),\n",
    "                                          data_transforms[x])\n",
    "                  for x in ['train', 'val']}\n",
    "\n",
    "dataloaders = {x: torch.utils.data.DataLoader(image_datasets[x], batch_size=8,\n",
    "                                             shuffle=True, num_workers=4)\n",
    "              for x in ['train', 'val']}\n",
    "\n",
    "dataset_sizes = {x: len(image_datasets[x]) for x in ['train', 'val']}\n",
    "\n",
    "class_names = image_datasets['train'].classes"
   ]
  },
  {
   "cell_type": "code",
   "execution_count": 6,
   "id": "a96eadd3",
   "metadata": {},
   "outputs": [],
   "source": [
    "torch.cuda.empty_cache()"
   ]
  },
  {
   "cell_type": "code",
   "execution_count": 7,
   "id": "eb032b6e",
   "metadata": {},
   "outputs": [
    {
     "name": "stdout",
     "output_type": "stream",
     "text": [
      "Epoch 0/9\n",
      "----------\n"
     ]
    },
    {
     "name": "stderr",
     "output_type": "stream",
     "text": [
      "C:\\Users\\thoma\\anaconda3\\lib\\site-packages\\torch\\nn\\functional.py:718: UserWarning: Named tensors and all their associated APIs are an experimental feature and subject to change. Please do not use them for anything important until they are released as stable. (Triggered internally at  ..\\c10/core/TensorImpl.h:1156.)\n",
      "  return torch.max_pool2d(input, kernel_size, stride, padding, dilation, ceil_mode)\n"
     ]
    },
    {
     "name": "stdout",
     "output_type": "stream",
     "text": [
      "train Loss: 0.4500 Acc: 0.8563\n",
      "val Loss: 0.2428 Acc: 0.9139\n",
      "\n",
      "Epoch 1/9\n",
      "----------\n",
      "train Loss: 0.1882 Acc: 0.9355\n",
      "val Loss: 0.2107 Acc: 0.9329\n",
      "\n",
      "Epoch 2/9\n",
      "----------\n",
      "train Loss: 0.1368 Acc: 0.9549\n",
      "val Loss: 0.1208 Acc: 0.9568\n",
      "\n",
      "Epoch 3/9\n",
      "----------\n",
      "train Loss: 0.1031 Acc: 0.9654\n",
      "val Loss: 0.1240 Acc: 0.9550\n",
      "\n",
      "Epoch 4/9\n",
      "----------\n",
      "train Loss: 0.0776 Acc: 0.9734\n",
      "val Loss: 0.1773 Acc: 0.9514\n",
      "\n",
      "Epoch 5/9\n",
      "----------\n",
      "train Loss: 0.0599 Acc: 0.9799\n",
      "val Loss: 0.1371 Acc: 0.9579\n",
      "\n",
      "Epoch 6/9\n",
      "----------\n",
      "train Loss: 0.0426 Acc: 0.9867\n",
      "val Loss: 0.1289 Acc: 0.9600\n",
      "\n",
      "Epoch 7/9\n",
      "----------\n",
      "train Loss: 0.0196 Acc: 0.9943\n",
      "val Loss: 0.1207 Acc: 0.9696\n",
      "\n",
      "Epoch 8/9\n",
      "----------\n",
      "train Loss: 0.0128 Acc: 0.9965\n",
      "val Loss: 0.1284 Acc: 0.9679\n",
      "\n",
      "Epoch 9/9\n",
      "----------\n",
      "train Loss: 0.0106 Acc: 0.9974\n",
      "val Loss: 0.1321 Acc: 0.9704\n",
      "\n",
      "Training complete in 18m 6s\n",
      "Best val Acc: 0.970357\n"
     ]
    }
   ],
   "source": [
    "Blurry_model = train_model(model, criterion, optimizer, exp_lr_scheduler)"
   ]
  },
  {
   "cell_type": "markdown",
   "id": "1564da2e",
   "metadata": {},
   "source": [
    "### Contrast effect"
   ]
  },
  {
   "cell_type": "code",
   "execution_count": 8,
   "id": "42efc35b",
   "metadata": {},
   "outputs": [],
   "source": [
    "class AdjustContrastTransform:\n",
    "    def __init__(self, factor):\n",
    "        self.factor = factor\n",
    "\n",
    "    def __call__(self, image):\n",
    "        return transforms.functional.to_tensor(transforms.functional.adjust_contrast(image, self.factor))"
   ]
  },
  {
   "cell_type": "code",
   "execution_count": 9,
   "id": "0c605eee",
   "metadata": {},
   "outputs": [],
   "source": [
    "# Data augmentation\n",
    "\n",
    "data_transforms = {\n",
    "    'train': transforms.Compose([\n",
    "        transforms.Resize(256),\n",
    "        transforms.CenterCrop(224),\n",
    "        transforms.ToTensor(),\n",
    "        AdjustContrastTransform(factor=2)\n",
    "    ]),\n",
    "    'val': transforms.Compose([\n",
    "        transforms.Resize(256),\n",
    "        transforms.CenterCrop(224),\n",
    "        transforms.ToTensor(),\n",
    "        AdjustContrastTransform(factor=2)\n",
    "    ]),\n",
    "}\n",
    "\n",
    "dataloaders = {x: torch.utils.data.DataLoader(image_datasets[x], batch_size=8,\n",
    "                                             shuffle=True, num_workers=4)\n",
    "              for x in ['train', 'val']}"
   ]
  },
  {
   "cell_type": "code",
   "execution_count": 10,
   "id": "6def9934",
   "metadata": {},
   "outputs": [],
   "source": [
    "torch.cuda.empty_cache()"
   ]
  },
  {
   "cell_type": "code",
   "execution_count": 11,
   "id": "424ce489",
   "metadata": {},
   "outputs": [
    {
     "name": "stdout",
     "output_type": "stream",
     "text": [
      "Epoch 0/9\n",
      "----------\n",
      "train Loss: 0.0086 Acc: 0.9980\n",
      "val Loss: 0.1334 Acc: 0.9704\n",
      "\n",
      "Epoch 1/9\n",
      "----------\n",
      "train Loss: 0.0074 Acc: 0.9987\n",
      "val Loss: 0.1345 Acc: 0.9704\n",
      "\n",
      "Epoch 2/9\n",
      "----------\n",
      "train Loss: 0.0069 Acc: 0.9986\n",
      "val Loss: 0.1375 Acc: 0.9693\n",
      "\n",
      "Epoch 3/9\n",
      "----------\n",
      "train Loss: 0.0087 Acc: 0.9982\n",
      "val Loss: 0.1389 Acc: 0.9679\n",
      "\n",
      "Epoch 4/9\n",
      "----------\n",
      "train Loss: 0.0058 Acc: 0.9990\n",
      "val Loss: 0.1383 Acc: 0.9696\n",
      "\n",
      "Epoch 5/9\n",
      "----------\n",
      "train Loss: 0.0064 Acc: 0.9986\n",
      "val Loss: 0.1344 Acc: 0.9704\n",
      "\n",
      "Epoch 6/9\n",
      "----------\n",
      "train Loss: 0.0062 Acc: 0.9985\n",
      "val Loss: 0.1375 Acc: 0.9696\n",
      "\n",
      "Epoch 7/9\n",
      "----------\n",
      "train Loss: 0.0061 Acc: 0.9985\n",
      "val Loss: 0.1396 Acc: 0.9700\n",
      "\n",
      "Epoch 8/9\n",
      "----------\n",
      "train Loss: 0.0065 Acc: 0.9987\n",
      "val Loss: 0.1383 Acc: 0.9693\n",
      "\n",
      "Epoch 9/9\n",
      "----------\n",
      "train Loss: 0.0062 Acc: 0.9984\n",
      "val Loss: 0.1400 Acc: 0.9707\n",
      "\n",
      "Training complete in 11m 40s\n",
      "Best val Acc: 0.970714\n"
     ]
    }
   ],
   "source": [
    "Constrasted_model = train_model(model, criterion, optimizer, exp_lr_scheduler)"
   ]
  },
  {
   "cell_type": "markdown",
   "id": "6d7eef60",
   "metadata": {},
   "source": [
    "### Rotated Effect"
   ]
  },
  {
   "cell_type": "code",
   "execution_count": 12,
   "id": "560840d7",
   "metadata": {},
   "outputs": [],
   "source": [
    "Rotater = torchvision.transforms.RandomRotation(degrees=(0, 180))"
   ]
  },
  {
   "cell_type": "code",
   "execution_count": 13,
   "id": "e96b6317",
   "metadata": {},
   "outputs": [],
   "source": [
    "# Data augmentation\n",
    "\n",
    "data_transforms = {\n",
    "    'train': transforms.Compose([\n",
    "        transforms.Resize(256),\n",
    "        transforms.CenterCrop(224),\n",
    "        transforms.ToTensor(),\n",
    "        Rotater\n",
    "    ]),\n",
    "    'val': transforms.Compose([\n",
    "        transforms.Resize(256),\n",
    "        transforms.CenterCrop(224),\n",
    "        transforms.ToTensor(),\n",
    "        Rotater\n",
    "    ]),\n",
    "}\n",
    "\n",
    "dataloaders = {x: torch.utils.data.DataLoader(image_datasets[x], batch_size=8,\n",
    "                                             shuffle=True, num_workers=4)\n",
    "              for x in ['train', 'val']}"
   ]
  },
  {
   "cell_type": "code",
   "execution_count": 14,
   "id": "b26250c3",
   "metadata": {},
   "outputs": [],
   "source": [
    "torch.cuda.empty_cache()"
   ]
  },
  {
   "cell_type": "code",
   "execution_count": 15,
   "id": "2836899e",
   "metadata": {},
   "outputs": [
    {
     "name": "stdout",
     "output_type": "stream",
     "text": [
      "Epoch 0/9\n",
      "----------\n",
      "train Loss: 0.0056 Acc: 0.9990\n",
      "val Loss: 0.1401 Acc: 0.9704\n",
      "\n",
      "Epoch 1/9\n",
      "----------\n",
      "train Loss: 0.0058 Acc: 0.9988\n",
      "val Loss: 0.1407 Acc: 0.9693\n",
      "\n",
      "Epoch 2/9\n",
      "----------\n",
      "train Loss: 0.0062 Acc: 0.9989\n",
      "val Loss: 0.1370 Acc: 0.9693\n",
      "\n",
      "Epoch 3/9\n",
      "----------\n",
      "train Loss: 0.0060 Acc: 0.9988\n",
      "val Loss: 0.1368 Acc: 0.9707\n",
      "\n",
      "Epoch 4/9\n",
      "----------\n",
      "train Loss: 0.0051 Acc: 0.9994\n",
      "val Loss: 0.1403 Acc: 0.9693\n",
      "\n",
      "Epoch 5/9\n",
      "----------\n",
      "train Loss: 0.0053 Acc: 0.9990\n",
      "val Loss: 0.1386 Acc: 0.9700\n",
      "\n",
      "Epoch 6/9\n",
      "----------\n",
      "train Loss: 0.0059 Acc: 0.9988\n",
      "val Loss: 0.1405 Acc: 0.9707\n",
      "\n",
      "Epoch 7/9\n",
      "----------\n",
      "train Loss: 0.0054 Acc: 0.9990\n",
      "val Loss: 0.1340 Acc: 0.9686\n",
      "\n",
      "Epoch 8/9\n",
      "----------\n",
      "train Loss: 0.0056 Acc: 0.9990\n",
      "val Loss: 0.1431 Acc: 0.9707\n",
      "\n",
      "Epoch 9/9\n",
      "----------\n",
      "train Loss: 0.0061 Acc: 0.9986\n",
      "val Loss: 0.1379 Acc: 0.9707\n",
      "\n",
      "Training complete in 11m 38s\n",
      "Best val Acc: 0.970714\n"
     ]
    }
   ],
   "source": [
    "Rotated_model = train_model(model, criterion, optimizer, exp_lr_scheduler)"
   ]
  },
  {
   "cell_type": "markdown",
   "id": "b547c727",
   "metadata": {},
   "source": [
    "### Visualisation"
   ]
  },
  {
   "cell_type": "code",
   "execution_count": 44,
   "id": "e5a89e1b",
   "metadata": {},
   "outputs": [
    {
     "data": {
      "image/png": "[encoded data removed]",
      "text/plain": [
       "<Figure size 640x480 with 1 Axes>"
      ]
     },
     "metadata": {},
     "output_type": "display_data"
    }
   ],
   "source": [
    "normalized_accuracy = max(Normal_model[1]).item()\n",
    "blurred_effect_accuracy = max(Blurry_model[1]).item()\n",
    "rotation_accuracy = max(Rotated_model[1]).item()\n",
    "contrast_accuracy = max(Constrasted_model[1]).item()\n",
    "\n",
    "# Create a list of accuracy values\n",
    "accuracies = [normalized_accuracy, blurred_effect_accuracy, rotation_accuracy, contrast_accuracy]\n",
    "\n",
    "# Create a list of category names\n",
    "categories = ['Normalized','Blurred Effect', 'Rotation', 'Contrast']\n",
    "\n",
    "# Create the bar plot\n",
    "plt.bar(categories, accuracies)\n",
    "\n",
    "# Set the Y-axis label to 'Accuracy'\n",
    "plt.ylabel('Accuracy')\n",
    "\n",
    "plt.ylim(0.96, 0.98, 0.001)\n",
    "\n",
    "# Show the plot\n",
    "plt.show()"
   ]
  }
 ],
 "metadata": {
  "kernelspec": {
   "display_name": "Python 3 (ipykernel)",
   "language": "python",
   "name": "python3"
  },
  "language_info": {
   "codemirror_mode": {
    "name": "ipython",
    "version": 3
   },
   "file_extension": ".py",
   "mimetype": "text/x-python",
   "name": "python",
   "nbconvert_exporter": "python",
   "pygments_lexer": "ipython3",
   "version": "3.9.12"
  }
 },
 "nbformat": 4,
 "nbformat_minor": 5
}
