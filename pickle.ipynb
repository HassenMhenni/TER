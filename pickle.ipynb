{
 "cells": [
  {
   "cell_type": "code",
   "execution_count": 1,
   "outputs": [],
   "source": [
    "import pickle"
   ],
   "metadata": {
    "collapsed": false,
    "pycharm": {
     "name": "#%%\n"
    }
   }
  },
  {
   "cell_type": "code",
   "execution_count": 2,
   "outputs": [],
   "source": [
    "train_loss_resnet, train_acc_resnet = [], []\n",
    "val_loss_resnet, val_acc_resnet = [], []\n",
    "\n",
    "train_loss_resnet.append(0.5512)\n",
    "train_acc_resnet.append(0.7913)\n",
    "val_loss_resnet.append(0.1617)\n",
    "val_acc_resnet.append(0.9514)\n",
    "\n",
    "train_loss_resnet.append(0.3504)\n",
    "train_acc_resnet.append(0.8699)\n",
    "val_loss_resnet.append(0.1314)\n",
    "val_acc_resnet.append(0.9571)\n",
    "\n",
    "train_loss_resnet.append(0.3078)\n",
    "train_acc_resnet.append(0.8831)\n",
    "val_loss_resnet.append(0.1096)\n",
    "val_acc_resnet.append(0.9675)\n",
    "\n",
    "train_loss_resnet.append(0.2859)\n",
    "train_acc_resnet.append(0.8921)\n",
    "val_loss_resnet.append(0.1109)\n",
    "val_acc_resnet.append(0.9643)\n",
    "\n",
    "train_loss_resnet.append(0.2745)\n",
    "train_acc_resnet.append(0.8946)\n",
    "val_loss_resnet.append(0.1059)\n",
    "val_acc_resnet.append(0.9629)\n",
    "\n",
    "train_loss_resnet.append(0.2479)\n",
    "train_acc_resnet.append(0.9048)\n",
    "val_loss_resnet.append(0.0962)\n",
    "val_acc_resnet.append(0.9689)\n",
    "\n",
    "best_val_acc_resnet = 0.9689"
   ],
   "metadata": {
    "collapsed": false,
    "pycharm": {
     "name": "#%%\n"
    }
   }
  },
  {
   "cell_type": "code",
   "execution_count": 3,
   "outputs": [
    {
     "data": {
      "text/plain": "1644"
     },
     "execution_count": 3,
     "metadata": {},
     "output_type": "execute_result"
    }
   ],
   "source": [
    "#convert 27m 24s in seconds\n",
    "time_resnet = 27*60 + 24\n",
    "time_resnet"
   ],
   "metadata": {
    "collapsed": false,
    "pycharm": {
     "name": "#%%\n"
    }
   }
  },
  {
   "cell_type": "code",
   "execution_count": 4,
   "outputs": [],
   "source": [
    "accuracy_resnet = 0.96"
   ],
   "metadata": {
    "collapsed": false,
    "pycharm": {
     "name": "#%%\n"
    }
   }
  },
  {
   "cell_type": "code",
   "execution_count": 5,
   "outputs": [
    {
     "data": {
      "text/plain": "['AMD', 'CNV', 'CSR', 'DME', 'DR', 'DRUSEN', 'MH', 'NORMAL']"
     },
     "execution_count": 5,
     "metadata": {},
     "output_type": "execute_result"
    }
   ],
   "source": [
    "import os\n",
    "train_dir = 'data/train'\n",
    "labels = os.listdir(train_dir)\n",
    "labels"
   ],
   "metadata": {
    "collapsed": false,
    "pycharm": {
     "name": "#%%\n"
    }
   }
  },
  {
   "cell_type": "code",
   "execution_count": 6,
   "outputs": [
    {
     "data": {
      "text/plain": "{'AMD': 0,\n 'CNV': 1,\n 'CSR': 2,\n 'DME': 3,\n 'DR': 4,\n 'DRUSEN': 5,\n 'MH': 6,\n 'NORMAL': 7}"
     },
     "execution_count": 6,
     "metadata": {},
     "output_type": "execute_result"
    }
   ],
   "source": [
    "\n",
    "label_acc_resnet = {}\n",
    "for i in range(len(labels)):\n",
    "    label_acc_resnet[labels[i]] = i\n",
    "label_acc_resnet"
   ],
   "metadata": {
    "collapsed": false,
    "pycharm": {
     "name": "#%%\n"
    }
   }
  },
  {
   "cell_type": "code",
   "execution_count": 7,
   "outputs": [],
   "source": [
    "#insert those values to label_dict\n",
    "label_acc_resnet['DR'] = 1.0\n",
    "label_acc_resnet['DME'] = 0.94\n",
    "label_acc_resnet['DRUSEN'] = 0.9142857142857143\n",
    "label_acc_resnet['NORMAL'] = 0.9828571428571429\n",
    "label_acc_resnet['AMD'] = 1.0\n",
    "label_acc_resnet['CSR'] = 0.9971428571428571\n",
    "label_acc_resnet['MH'] = 0.9885714285714285\n",
    "label_acc_resnet['CNV'] = 0.9285714285714286\n",
    "label_acc_resnet['DME'] = 0.94"
   ],
   "metadata": {
    "collapsed": false,
    "pycharm": {
     "name": "#%%\n"
    }
   }
  },
  {
   "cell_type": "code",
   "execution_count": 8,
   "outputs": [],
   "source": [
    "train_loss_vgg, train_acc_vgg = [], []\n",
    "val_loss_vgg, val_acc_vgg = [], []"
   ],
   "metadata": {
    "collapsed": false,
    "pycharm": {
     "name": "#%%\n"
    }
   }
  },
  {
   "cell_type": "code",
   "execution_count": 9,
   "outputs": [],
   "source": [
    "train_loss_vgg.append(0.5926)\n",
    "train_acc_vgg.append(0.7603)\n",
    "val_loss_vgg.append(0.3111)\n",
    "val_acc_vgg.append(0.8925)\n",
    "\n",
    "train_loss_vgg.append(0.5512)\n",
    "train_acc_vgg.append(0.7792)\n",
    "val_loss_vgg.append(0.3138)\n",
    "val_acc_vgg.append(0.8843)\n",
    "\n",
    "train_loss_vgg.append(0.5249)\n",
    "train_acc_vgg.append(0.7876)\n",
    "val_loss_vgg.append(0.3069)\n",
    "val_acc_vgg.append(0.8779)\n",
    "\n",
    "train_loss_vgg.append(0.5097)\n",
    "train_acc_vgg.append(0.7938)\n",
    "val_loss_vgg.append(0.3065)\n",
    "val_acc_vgg.append(0.8896)\n",
    "\n",
    "train_loss_vgg.append(0.4913)\n",
    "train_acc_vgg.append(0.8030)\n",
    "val_loss_vgg.append(0.2462)\n",
    "val_acc_vgg.append(0.9136)\n",
    "\n",
    "train_loss_vgg.append(0.4813)\n",
    "train_acc_vgg.append(0.8054)\n",
    "val_loss_vgg.append(0.2819)\n",
    "val_acc_vgg.append(0.8854)\n",
    "\n",
    "best_val_acc_vgg = 0.9136"
   ],
   "metadata": {
    "collapsed": false,
    "pycharm": {
     "name": "#%%\n"
    }
   }
  },
  {
   "cell_type": "code",
   "execution_count": 10,
   "outputs": [
    {
     "data": {
      "text/plain": "3731"
     },
     "execution_count": 10,
     "metadata": {},
     "output_type": "execute_result"
    }
   ],
   "source": [
    "\n",
    "time_vgg = 62*60 + 11\n",
    "time_vgg"
   ],
   "metadata": {
    "collapsed": false,
    "pycharm": {
     "name": "#%%\n"
    }
   }
  },
  {
   "cell_type": "code",
   "execution_count": 11,
   "outputs": [],
   "source": [
    "accuracy_vgg = 0.88"
   ],
   "metadata": {
    "collapsed": false,
    "pycharm": {
     "name": "#%%\n"
    }
   }
  },
  {
   "cell_type": "code",
   "execution_count": 12,
   "outputs": [
    {
     "data": {
      "text/plain": "{'AMD': 0,\n 'CNV': 1,\n 'CSR': 2,\n 'DME': 3,\n 'DR': 4,\n 'DRUSEN': 5,\n 'MH': 6,\n 'NORMAL': 7}"
     },
     "execution_count": 12,
     "metadata": {},
     "output_type": "execute_result"
    }
   ],
   "source": [
    "label_acc_vgg = {}\n",
    "for i in range(len(labels)):\n",
    "    label_acc_vgg[labels[i]] = i\n",
    "label_acc_vgg"
   ],
   "metadata": {
    "collapsed": false,
    "pycharm": {
     "name": "#%%\n"
    }
   }
  },
  {
   "cell_type": "code",
   "execution_count": 13,
   "outputs": [],
   "source": [
    "label_acc_vgg['AMD'] = 1.0\n",
    "label_acc_vgg['CNV'] = 0.9\n",
    "label_acc_vgg['CSR'] = 1.0\n",
    "label_acc_vgg['DME'] = 0.7028571428571428\n",
    "label_acc_vgg['DR'] = 0.9571428571428572\n",
    "label_acc_vgg['DRUSEN'] = 0.5628571428571428\n",
    "label_acc_vgg['MH'] = 0.9857142857142858\n",
    "label_acc_vgg['NORMAL'] = 0.9742857142857143"
   ],
   "metadata": {
    "collapsed": false,
    "pycharm": {
     "name": "#%%\n"
    }
   }
  },
  {
   "cell_type": "code",
   "execution_count": 14,
   "outputs": [
    {
     "data": {
      "text/plain": "{'AMD': 1.0,\n 'CNV': 0.9,\n 'CSR': 1.0,\n 'DME': 0.7028571428571428,\n 'DR': 0.9571428571428572,\n 'DRUSEN': 0.5628571428571428,\n 'MH': 0.9857142857142858,\n 'NORMAL': 0.9742857142857143}"
     },
     "execution_count": 14,
     "metadata": {},
     "output_type": "execute_result"
    }
   ],
   "source": [
    "label_acc_vgg"
   ],
   "metadata": {
    "collapsed": false,
    "pycharm": {
     "name": "#%%\n"
    }
   }
  },
  {
   "cell_type": "code",
   "execution_count": 15,
   "outputs": [],
   "source": [
    "with open('results.pkl', 'wb') as f:\n",
    "    pickle.dump({'train_loss_resnet': train_loss_resnet, 'train_acc_resnet': train_acc_resnet, 'val_loss_resnet': val_loss_resnet, 'val_acc_resnet': val_acc_resnet, 'best_val_acc_resnet': best_val_acc_resnet, 'time_resnet': time_resnet, 'accuracy_resnet': accuracy_resnet, 'label_acc_resnet': label_acc_resnet, 'train_loss_vgg': train_loss_vgg, 'train_acc_vgg': train_acc_vgg, 'val_loss_vgg': val_loss_vgg, 'val_acc_vgg': val_acc_vgg, 'best_val_acc_vgg': best_val_acc_vgg, 'time_vgg': time_vgg, 'accuracy_vgg': accuracy_vgg, 'label_acc_vgg': label_acc_vgg}, f)"
   ],
   "metadata": {
    "collapsed": false,
    "pycharm": {
     "name": "#%%\n"
    }
   }
  },
  {
   "cell_type": "code",
   "execution_count": 15,
   "outputs": [],
   "source": [],
   "metadata": {
    "collapsed": false,
    "pycharm": {
     "name": "#%%\n"
    }
   }
  }
 ],
 "metadata": {
  "kernelspec": {
   "display_name": "Python 3",
   "language": "python",
   "name": "python3"
  },
  "language_info": {
   "codemirror_mode": {
    "name": "ipython",
    "version": 2
   },
   "file_extension": ".py",
   "mimetype": "text/x-python",
   "name": "python",
   "nbconvert_exporter": "python",
   "pygments_lexer": "ipython2",
   "version": "2.7.6"
  }
 },
 "nbformat": 4,
 "nbformat_minor": 0
}