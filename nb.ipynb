{
 "cells": [
  {
   "cell_type": "code",
   "execution_count": 1,
   "outputs": [],
   "source": [
    "import os"
   ],
   "metadata": {
    "collapsed": false,
    "pycharm": {
     "name": "#%%\n"
    }
   }
  },
  {
   "cell_type": "code",
   "execution_count": 3,
   "outputs": [],
   "source": [
    "image_path = os.path.join(os.getcwd(), 'images')\n",
    "if not os.path.exists(image_path):\n",
    "    !mkdir images"
   ],
   "metadata": {
    "collapsed": false,
    "pycharm": {
     "name": "#%%\n"
    }
   }
  },
  {
   "cell_type": "markdown",
   "source": [
    "# 1. Importing the libraries\n"
   ],
   "metadata": {
    "collapsed": false,
    "pycharm": {
     "name": "#%% md\n"
    }
   }
  },
  {
   "cell_type": "code",
   "execution_count": 4,
   "outputs": [],
   "source": [
    "from __future__ import print_function, division\n",
    "\n",
    "import torch\n",
    "import torch.nn as nn\n",
    "import torch.optim as optim\n",
    "from torch.optim import lr_scheduler\n",
    "from torch.autograd import Variable\n",
    "import numpy as np\n",
    "import torchvision\n",
    "from torchvision import datasets, models, transforms\n",
    "import matplotlib.pyplot as plt"
   ],
   "metadata": {
    "collapsed": false,
    "pycharm": {
     "name": "#%%\n"
    }
   }
  },
  {
   "cell_type": "markdown",
   "source": [
    "# 2. load the data"
   ],
   "metadata": {
    "collapsed": false,
    "pycharm": {
     "name": "#%% md\n"
    }
   }
  },
  {
   "cell_type": "code",
   "execution_count": 9,
   "outputs": [],
   "source": [
    "#pytorch models takes 224x224 images as input so we resize all the images\n",
    "data_transforms = {\n",
    "    'train': transforms.Compose([\n",
    "        transforms.RandomResizedCrop(224), #crop the image to 224x224\n",
    "        transforms.RandomHorizontalFlip(), #flip the image horizontally\n",
    "        transforms.ToTensor(), #convert the image to a pytorch tensor\n",
    "        transforms.Normalize([0.485, 0.456, 0.406], [0.229, 0.224, 0.225]) #normalize the image\n",
    "    ]),\n",
    "    'val': transforms.Compose([\n",
    "        transforms.Resize(256), #resize the image to 256x256\n",
    "        transforms.CenterCrop(224), #crop the image to 224x224\n",
    "        transforms.ToTensor(), #convert the image to a pytorch tensor\n",
    "        transforms.Normalize([0.485, 0.456, 0.406], [0.229, 0.224, 0.225]) #normalize the image\n",
    "    ]),\n",
    "    'test': transforms.Compose([\n",
    "        transforms.Resize(256), #resize the image to 256x256\n",
    "        transforms.CenterCrop(224),  #crop the image to 224x224\n",
    "        transforms.ToTensor(), #convert the image to a pytorch tensor\n",
    "        transforms.Normalize([0.485, 0.456, 0.406], [0.229, 0.224, 0.225]) #normalize the image\n",
    "    ]),\n",
    "}\n"
   ],
   "metadata": {
    "collapsed": false,
    "pycharm": {
     "name": "#%%\n"
    }
   }
  },
  {
   "cell_type": "code",
   "execution_count": 21,
   "outputs": [],
   "source": [
    "images_datasets = {x: datasets.ImageFolder(os.path.join('images', x), data_transforms[x]) for x in ['train', 'val', 'test']} #load the images\n",
    "dataloaders = {x: torch.utils.data.DataLoader(images_datasets[x], batch_size=8, shuffle=True, num_workers=8) for x in ['train', 'val', 'test']} #create a dataloader for each dataset\n",
    "data_sizes = {x: len(images_datasets[x]) for x in ['train', 'val', 'test']} #get the size of each dataset"
   ],
   "metadata": {
    "collapsed": false,
    "pycharm": {
     "name": "#%%\n"
    }
   }
  },
  {
   "cell_type": "code",
   "execution_count": 22,
   "outputs": [
    {
     "name": "stdout",
     "output_type": "stream",
     "text": [
      "Loaded 18400 images under train\n",
      "Loaded 2800 images under val\n",
      "Loaded 2800 images under test\n"
     ]
    }
   ],
   "source": [
    "for x in ['train', 'val', 'test']:\n",
    "    print('Loaded {} images under {}'.format(data_sizes[x], x))"
   ],
   "metadata": {
    "collapsed": false,
    "pycharm": {
     "name": "#%%\n"
    }
   }
  },
  {
   "cell_type": "code",
   "execution_count": 23,
   "outputs": [
    {
     "name": "stdout",
     "output_type": "stream",
     "text": [
      "Class names: ['AMD', 'CNV', 'CSR', 'DME', 'DR', 'DRUSEN', 'MH', 'NORMAL']\n"
     ]
    }
   ],
   "source": [
    "class_names = images_datasets['train'].classes #get the class names\n",
    "print(\"Class names: {}\".format(class_names))"
   ],
   "metadata": {
    "collapsed": false,
    "pycharm": {
     "name": "#%%\n"
    }
   }
  },
  {
   "cell_type": "code",
   "execution_count": 30,
   "outputs": [
    {
     "name": "stdout",
     "output_type": "stream",
     "text": [
      "Use GPU: False\n"
     ]
    }
   ],
   "source": [
    "#check if cuda is available\n",
    "if torch.cuda.is_available():\n",
    "    use_gpu = True\n",
    "else:\n",
    "    use_gpu = False\n",
    "print(\"Use GPU: {}\".format(use_gpu))"
   ],
   "metadata": {
    "collapsed": false,
    "pycharm": {
     "name": "#%% mdg#check if cuda is available\n"
    }
   }
  },
  {
   "cell_type": "code",
   "execution_count": 31,
   "outputs": [
    {
     "ename": "RuntimeError",
     "evalue": "No CUDA GPUs are available",
     "output_type": "error",
     "traceback": [
      "\u001B[0;31m---------------------------------------------------------------------------\u001B[0m",
      "\u001B[0;31mRuntimeError\u001B[0m                              Traceback (most recent call last)",
      "Cell \u001B[0;32mIn[31], line 1\u001B[0m\n\u001B[0;32m----> 1\u001B[0m \u001B[43mtorch\u001B[49m\u001B[38;5;241;43m.\u001B[39;49m\u001B[43mzeros\u001B[49m\u001B[43m(\u001B[49m\u001B[38;5;241;43m1\u001B[39;49m\u001B[43m)\u001B[49m\u001B[38;5;241;43m.\u001B[39;49m\u001B[43mcuda\u001B[49m\u001B[43m(\u001B[49m\u001B[43m)\u001B[49m\n",
      "File \u001B[0;32m~/pycharm-download/TER/lib/python3.8/site-packages/torch/cuda/__init__.py:229\u001B[0m, in \u001B[0;36m_lazy_init\u001B[0;34m()\u001B[0m\n\u001B[1;32m    227\u001B[0m     torch\u001B[38;5;241m.\u001B[39mcuda\u001B[38;5;241m.\u001B[39mset_device(\u001B[38;5;28mself\u001B[39m\u001B[38;5;241m.\u001B[39midx)\n\u001B[1;32m    228\u001B[0m \u001B[38;5;28;01mif\u001B[39;00m \u001B[38;5;129;01mnot\u001B[39;00m torch\u001B[38;5;241m.\u001B[39mjit\u001B[38;5;241m.\u001B[39mis_scripting():\n\u001B[0;32m--> 229\u001B[0m     _lazy_init()\n",
      "\u001B[0;31mRuntimeError\u001B[0m: No CUDA GPUs are available"
     ]
    }
   ],
   "source": [
    "torch.zeros(1).cuda()"
   ],
   "metadata": {
    "collapsed": false,
    "pycharm": {
     "name": "#%%\n"
    }
   }
  },
  {
   "cell_type": "code",
   "execution_count": null,
   "outputs": [],
   "source": [
    "#if cuda is anaivable uncomment the following line\n",
    "#!python -m pip install torch==1.9.0+cu111 torchvision==0.10.0+cu111 -f https://download.pytorch.org/whl/torch_stable.html"
   ],
   "metadata": {
    "collapsed": false,
    "pycharm": {
     "name": "#%%\n"
    }
   }
  },
  {
   "cell_type": "code",
   "execution_count": 28,
   "outputs": [
    {
     "name": "stderr",
     "output_type": "stream",
     "text": [
      "Clipping input data to the valid range for imshow with RGB data ([0..1] for floats or [0..255] for integers).\n"
     ]
    },
    {
     "data": {
      "text/plain": "<Figure size 640x480 with 1 Axes>",
      "image/svg+xml": "<?xml version=\"1.0\" encoding=\"utf-8\" standalone=\"no\"?>\n<!DOCTYPE svg PUBLIC \"-//W3C//DTD SVG 1.1//EN\"\n  \"http://www.w3.org/Graphics/SVG/1.1/DTD/svg11.dtd\">\n<svg xmlns:xlink=\"http://www.w3.org/1999/xlink\" width=\"409.974375pt\" height=\"74.503407pt\" viewBox=\"0 0 409.974375 74.503407\" xmlns=\"http://www.w3.org/2000/svg\" version=\"1.1\">\n <metadata>\n  <rdf:RDF xmlns:dc=\"http://purl.org/dc/elements/1.1/\" xmlns:cc=\"http://creativecommons.org/ns#\" xmlns:rdf=\"http://www.w3.org/1999/02/22-rdf-syntax-ns#\">\n   <cc:Work>\n    <dc:type rdf:resource=\"http://purl.org/dc/dcmitype/StillImage\"/>\n    <dc:date>2022-12-10T17:40:25.771917</dc:date>\n    <dc:format>image/svg+xml</dc:format>\n    <dc:creator>\n     <cc:Agent>\n      <dc:title>Matplotlib v3.6.2, https://matplotlib.org/</dc:title>\n     </cc:Agent>\n    </dc:creator>\n   </cc:Work>\n  </rdf:RDF>\n </metadata>\n <defs>\n  <style type=\"text/css\">*{stroke-linejoin: round; stroke-linecap: butt}</style>\n </defs>\n <g id=\"figure_1\">\n  <g id=\"patch_1\">\n   <path d=\"M 0 74.503407 \nL 409.974375 74.503407 \nL 409.974375 0 \nL 0 0 \nz\n\" style=\"fill: #ffffff\"/>\n  </g>\n  <g id=\"axes_1\">\n   <g clip-path=\"url(#p022fd27ab7)\">\n    <image xlink:href=\"data:image/png;base64,\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\" id=\"imageff1ca9dccd\" transform=\"scale(1 -1) translate(0 -45.36)\" x=\"26.427187\" y=\"-21.943407\" width=\"357.12\" height=\"45.36\"/>\n   </g>\n   <g id=\"text_1\">\n    <!-- ['AMD', 'NORMAL', 'CNV', 'CNV', 'DRUSEN', 'MH', 'NORMAL', 'DME'] -->\n    <g transform=\"translate(7.2 16.318125) scale(0.12 -0.12)\">\n     <defs>\n      <path id=\"DejaVuSans-5b\" d=\"M 550 4863 \nL 1875 4863 \nL 1875 4416 \nL 1125 4416 \nL 1125 -397 \nL 1875 -397 \nL 1875 -844 \nL 550 -844 \nL 550 4863 \nz\n\" transform=\"scale(0.015625)\"/>\n      <path id=\"DejaVuSans-27\" d=\"M 1147 4666 \nL 1147 2931 \nL 616 2931 \nL 616 4666 \nL 1147 4666 \nz\n\" transform=\"scale(0.015625)\"/>\n      <path id=\"DejaVuSans-41\" d=\"M 2188 4044 \nL 1331 1722 \nL 3047 1722 \nL 2188 4044 \nz\nM 1831 4666 \nL 2547 4666 \nL 4325 0 \nL 3669 0 \nL 3244 1197 \nL 1141 1197 \nL 716 0 \nL 50 0 \nL 1831 4666 \nz\n\" transform=\"scale(0.015625)\"/>\n      <path id=\"DejaVuSans-4d\" d=\"M 628 4666 \nL 1569 4666 \nL 2759 1491 \nL 3956 4666 \nL 4897 4666 \nL 4897 0 \nL 4281 0 \nL 4281 4097 \nL 3078 897 \nL 2444 897 \nL 1241 4097 \nL 1241 0 \nL 628 0 \nL 628 4666 \nz\n\" transform=\"scale(0.015625)\"/>\n      <path id=\"DejaVuSans-44\" d=\"M 1259 4147 \nL 1259 519 \nL 2022 519 \nQ 2988 519 3436 956 \nQ 3884 1394 3884 2338 \nQ 3884 3275 3436 3711 \nQ 2988 4147 2022 4147 \nL 1259 4147 \nz\nM 628 4666 \nL 1925 4666 \nQ 3281 4666 3915 4102 \nQ 4550 3538 4550 2338 \nQ 4550 1131 3912 565 \nQ 3275 0 1925 0 \nL 628 0 \nL 628 4666 \nz\n\" transform=\"scale(0.015625)\"/>\n      <path id=\"DejaVuSans-2c\" d=\"M 750 794 \nL 1409 794 \nL 1409 256 \nL 897 -744 \nL 494 -744 \nL 750 256 \nL 750 794 \nz\n\" transform=\"scale(0.015625)\"/>\n      <path id=\"DejaVuSans-20\" transform=\"scale(0.015625)\"/>\n      <path id=\"DejaVuSans-4e\" d=\"M 628 4666 \nL 1478 4666 \nL 3547 763 \nL 3547 4666 \nL 4159 4666 \nL 4159 0 \nL 3309 0 \nL 1241 3903 \nL 1241 0 \nL 628 0 \nL 628 4666 \nz\n\" transform=\"scale(0.015625)\"/>\n      <path id=\"DejaVuSans-4f\" d=\"M 2522 4238 \nQ 1834 4238 1429 3725 \nQ 1025 3213 1025 2328 \nQ 1025 1447 1429 934 \nQ 1834 422 2522 422 \nQ 3209 422 3611 934 \nQ 4013 1447 4013 2328 \nQ 4013 3213 3611 3725 \nQ 3209 4238 2522 4238 \nz\nM 2522 4750 \nQ 3503 4750 4090 4092 \nQ 4678 3434 4678 2328 \nQ 4678 1225 4090 567 \nQ 3503 -91 2522 -91 \nQ 1538 -91 948 565 \nQ 359 1222 359 2328 \nQ 359 3434 948 4092 \nQ 1538 4750 2522 4750 \nz\n\" transform=\"scale(0.015625)\"/>\n      <path id=\"DejaVuSans-52\" d=\"M 2841 2188 \nQ 3044 2119 3236 1894 \nQ 3428 1669 3622 1275 \nL 4263 0 \nL 3584 0 \nL 2988 1197 \nQ 2756 1666 2539 1819 \nQ 2322 1972 1947 1972 \nL 1259 1972 \nL 1259 0 \nL 628 0 \nL 628 4666 \nL 2053 4666 \nQ 2853 4666 3247 4331 \nQ 3641 3997 3641 3322 \nQ 3641 2881 3436 2590 \nQ 3231 2300 2841 2188 \nz\nM 1259 4147 \nL 1259 2491 \nL 2053 2491 \nQ 2509 2491 2742 2702 \nQ 2975 2913 2975 3322 \nQ 2975 3731 2742 3939 \nQ 2509 4147 2053 4147 \nL 1259 4147 \nz\n\" transform=\"scale(0.015625)\"/>\n      <path id=\"DejaVuSans-4c\" d=\"M 628 4666 \nL 1259 4666 \nL 1259 531 \nL 3531 531 \nL 3531 0 \nL 628 0 \nL 628 4666 \nz\n\" transform=\"scale(0.015625)\"/>\n      <path id=\"DejaVuSans-43\" d=\"M 4122 4306 \nL 4122 3641 \nQ 3803 3938 3442 4084 \nQ 3081 4231 2675 4231 \nQ 1875 4231 1450 3742 \nQ 1025 3253 1025 2328 \nQ 1025 1406 1450 917 \nQ 1875 428 2675 428 \nQ 3081 428 3442 575 \nQ 3803 722 4122 1019 \nL 4122 359 \nQ 3791 134 3420 21 \nQ 3050 -91 2638 -91 \nQ 1578 -91 968 557 \nQ 359 1206 359 2328 \nQ 359 3453 968 4101 \nQ 1578 4750 2638 4750 \nQ 3056 4750 3426 4639 \nQ 3797 4528 4122 4306 \nz\n\" transform=\"scale(0.015625)\"/>\n      <path id=\"DejaVuSans-56\" d=\"M 1831 0 \nL 50 4666 \nL 709 4666 \nL 2188 738 \nL 3669 4666 \nL 4325 4666 \nL 2547 0 \nL 1831 0 \nz\n\" transform=\"scale(0.015625)\"/>\n      <path id=\"DejaVuSans-55\" d=\"M 556 4666 \nL 1191 4666 \nL 1191 1831 \nQ 1191 1081 1462 751 \nQ 1734 422 2344 422 \nQ 2950 422 3222 751 \nQ 3494 1081 3494 1831 \nL 3494 4666 \nL 4128 4666 \nL 4128 1753 \nQ 4128 841 3676 375 \nQ 3225 -91 2344 -91 \nQ 1459 -91 1007 375 \nQ 556 841 556 1753 \nL 556 4666 \nz\n\" transform=\"scale(0.015625)\"/>\n      <path id=\"DejaVuSans-53\" d=\"M 3425 4513 \nL 3425 3897 \nQ 3066 4069 2747 4153 \nQ 2428 4238 2131 4238 \nQ 1616 4238 1336 4038 \nQ 1056 3838 1056 3469 \nQ 1056 3159 1242 3001 \nQ 1428 2844 1947 2747 \nL 2328 2669 \nQ 3034 2534 3370 2195 \nQ 3706 1856 3706 1288 \nQ 3706 609 3251 259 \nQ 2797 -91 1919 -91 \nQ 1588 -91 1214 -16 \nQ 841 59 441 206 \nL 441 856 \nQ 825 641 1194 531 \nQ 1563 422 1919 422 \nQ 2459 422 2753 634 \nQ 3047 847 3047 1241 \nQ 3047 1584 2836 1778 \nQ 2625 1972 2144 2069 \nL 1759 2144 \nQ 1053 2284 737 2584 \nQ 422 2884 422 3419 \nQ 422 4038 858 4394 \nQ 1294 4750 2059 4750 \nQ 2388 4750 2728 4690 \nQ 3069 4631 3425 4513 \nz\n\" transform=\"scale(0.015625)\"/>\n      <path id=\"DejaVuSans-45\" d=\"M 628 4666 \nL 3578 4666 \nL 3578 4134 \nL 1259 4134 \nL 1259 2753 \nL 3481 2753 \nL 3481 2222 \nL 1259 2222 \nL 1259 531 \nL 3634 531 \nL 3634 0 \nL 628 0 \nL 628 4666 \nz\n\" transform=\"scale(0.015625)\"/>\n      <path id=\"DejaVuSans-48\" d=\"M 628 4666 \nL 1259 4666 \nL 1259 2753 \nL 3553 2753 \nL 3553 4666 \nL 4184 4666 \nL 4184 0 \nL 3553 0 \nL 3553 2222 \nL 1259 2222 \nL 1259 0 \nL 628 0 \nL 628 4666 \nz\n\" transform=\"scale(0.015625)\"/>\n      <path id=\"DejaVuSans-5d\" d=\"M 1947 4863 \nL 1947 -844 \nL 622 -844 \nL 622 -397 \nL 1369 -397 \nL 1369 4416 \nL 622 4416 \nL 622 4863 \nL 1947 4863 \nz\n\" transform=\"scale(0.015625)\"/>\n     </defs>\n     <use xlink:href=\"#DejaVuSans-5b\"/>\n     <use xlink:href=\"#DejaVuSans-27\" x=\"39.013672\"/>\n     <use xlink:href=\"#DejaVuSans-41\" x=\"66.503906\"/>\n     <use xlink:href=\"#DejaVuSans-4d\" x=\"134.912109\"/>\n     <use xlink:href=\"#DejaVuSans-44\" x=\"221.191406\"/>\n     <use xlink:href=\"#DejaVuSans-27\" x=\"298.193359\"/>\n     <use xlink:href=\"#DejaVuSans-2c\" x=\"325.683594\"/>\n     <use xlink:href=\"#DejaVuSans-20\" x=\"357.470703\"/>\n     <use xlink:href=\"#DejaVuSans-27\" x=\"389.257812\"/>\n     <use xlink:href=\"#DejaVuSans-4e\" x=\"416.748047\"/>\n     <use xlink:href=\"#DejaVuSans-4f\" x=\"491.552734\"/>\n     <use xlink:href=\"#DejaVuSans-52\" x=\"570.263672\"/>\n     <use xlink:href=\"#DejaVuSans-4d\" x=\"639.746094\"/>\n     <use xlink:href=\"#DejaVuSans-41\" x=\"726.025391\"/>\n     <use xlink:href=\"#DejaVuSans-4c\" x=\"794.433594\"/>\n     <use xlink:href=\"#DejaVuSans-27\" x=\"850.146484\"/>\n     <use xlink:href=\"#DejaVuSans-2c\" x=\"877.636719\"/>\n     <use xlink:href=\"#DejaVuSans-20\" x=\"909.423828\"/>\n     <use xlink:href=\"#DejaVuSans-27\" x=\"941.210938\"/>\n     <use xlink:href=\"#DejaVuSans-43\" x=\"968.701172\"/>\n     <use xlink:href=\"#DejaVuSans-4e\" x=\"1038.525391\"/>\n     <use xlink:href=\"#DejaVuSans-56\" x=\"1113.330078\"/>\n     <use xlink:href=\"#DejaVuSans-27\" x=\"1181.738281\"/>\n     <use xlink:href=\"#DejaVuSans-2c\" x=\"1209.228516\"/>\n     <use xlink:href=\"#DejaVuSans-20\" x=\"1241.015625\"/>\n     <use xlink:href=\"#DejaVuSans-27\" x=\"1272.802734\"/>\n     <use xlink:href=\"#DejaVuSans-43\" x=\"1300.292969\"/>\n     <use xlink:href=\"#DejaVuSans-4e\" x=\"1370.117188\"/>\n     <use xlink:href=\"#DejaVuSans-56\" x=\"1444.921875\"/>\n     <use xlink:href=\"#DejaVuSans-27\" x=\"1513.330078\"/>\n     <use xlink:href=\"#DejaVuSans-2c\" x=\"1540.820312\"/>\n     <use xlink:href=\"#DejaVuSans-20\" x=\"1572.607422\"/>\n     <use xlink:href=\"#DejaVuSans-27\" x=\"1604.394531\"/>\n     <use xlink:href=\"#DejaVuSans-44\" x=\"1631.884766\"/>\n     <use xlink:href=\"#DejaVuSans-52\" x=\"1708.886719\"/>\n     <use xlink:href=\"#DejaVuSans-55\" x=\"1778.369141\"/>\n     <use xlink:href=\"#DejaVuSans-53\" x=\"1851.5625\"/>\n     <use xlink:href=\"#DejaVuSans-45\" x=\"1915.039062\"/>\n     <use xlink:href=\"#DejaVuSans-4e\" x=\"1978.222656\"/>\n     <use xlink:href=\"#DejaVuSans-27\" x=\"2053.027344\"/>\n     <use xlink:href=\"#DejaVuSans-2c\" x=\"2080.517578\"/>\n     <use xlink:href=\"#DejaVuSans-20\" x=\"2112.304688\"/>\n     <use xlink:href=\"#DejaVuSans-27\" x=\"2144.091797\"/>\n     <use xlink:href=\"#DejaVuSans-4d\" x=\"2171.582031\"/>\n     <use xlink:href=\"#DejaVuSans-48\" x=\"2257.861328\"/>\n     <use xlink:href=\"#DejaVuSans-27\" x=\"2333.056641\"/>\n     <use xlink:href=\"#DejaVuSans-2c\" x=\"2360.546875\"/>\n     <use xlink:href=\"#DejaVuSans-20\" x=\"2392.333984\"/>\n     <use xlink:href=\"#DejaVuSans-27\" x=\"2424.121094\"/>\n     <use xlink:href=\"#DejaVuSans-4e\" x=\"2451.611328\"/>\n     <use xlink:href=\"#DejaVuSans-4f\" x=\"2526.416016\"/>\n     <use xlink:href=\"#DejaVuSans-52\" x=\"2605.126953\"/>\n     <use xlink:href=\"#DejaVuSans-4d\" x=\"2674.609375\"/>\n     <use xlink:href=\"#DejaVuSans-41\" x=\"2760.888672\"/>\n     <use xlink:href=\"#DejaVuSans-4c\" x=\"2829.296875\"/>\n     <use xlink:href=\"#DejaVuSans-27\" x=\"2885.009766\"/>\n     <use xlink:href=\"#DejaVuSans-2c\" x=\"2912.5\"/>\n     <use xlink:href=\"#DejaVuSans-20\" x=\"2944.287109\"/>\n     <use xlink:href=\"#DejaVuSans-27\" x=\"2976.074219\"/>\n     <use xlink:href=\"#DejaVuSans-44\" x=\"3003.564453\"/>\n     <use xlink:href=\"#DejaVuSans-4d\" x=\"3080.566406\"/>\n     <use xlink:href=\"#DejaVuSans-45\" x=\"3166.845703\"/>\n     <use xlink:href=\"#DejaVuSans-27\" x=\"3230.029297\"/>\n     <use xlink:href=\"#DejaVuSans-5d\" x=\"3257.519531\"/>\n    </g>\n   </g>\n  </g>\n </g>\n <defs>\n  <clipPath id=\"p022fd27ab7\">\n   <rect x=\"26.427187\" y=\"22.318125\" width=\"357.12\" height=\"44.985282\"/>\n  </clipPath>\n </defs>\n</svg>\n"
     },
     "metadata": {},
     "output_type": "display_data"
    }
   ],
   "source": [
    "%config InlineBackend.figure_format = 'svg'\n",
    "inputs , classes = next(iter(dataloaders['train'])) #get a batch of training data\n",
    "out = torchvision.utils.make_grid(inputs) #make a grid from batch\n",
    "out = out.numpy().transpose(1,2,0) #convert the tensor to an image\n",
    "plt.axis('off') #turn off the axis\n",
    "plt.imshow(out) #show the image\n",
    "title = [class_names[x] for x in classes] #get the class name for each image\n",
    "plt.title(title) #show the title\n",
    "plt.show() #show the plot"
   ],
   "metadata": {
    "collapsed": false,
    "pycharm": {
     "name": "#%%\n"
    }
   }
  },
  {
   "cell_type": "code",
   "execution_count": null,
   "outputs": [],
   "source": [],
   "metadata": {
    "collapsed": false,
    "pycharm": {
     "name": "#%%\n"
    }
   }
  }
 ],
 "metadata": {
  "kernelspec": {
   "display_name": "Python 3",
   "language": "python",
   "name": "python3"
  },
  "language_info": {
   "codemirror_mode": {
    "name": "ipython",
    "version": 2
   },
   "file_extension": ".py",
   "mimetype": "text/x-python",
   "name": "python",
   "nbconvert_exporter": "python",
   "pygments_lexer": "ipython2",
   "version": "2.7.6"
  }
 },
 "nbformat": 4,
 "nbformat_minor": 0
}